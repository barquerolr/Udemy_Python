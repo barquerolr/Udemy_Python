{
 "cells": [
  {
   "cell_type": "code",
   "execution_count": 1,
   "metadata": {},
   "outputs": [],
   "source": [
    "from IPython.display import clear_output\n",
    "\n",
    "def display_board(board):\n",
    "    clear_output()\n",
    "    print(\"  |   |\")\n",
    "    print(board[7] + \" | \" + board[8] + \" | \" + board[9])\n",
    "    print(\"  |   |\")\n",
    "    print(\"---------\")\n",
    "    print(\"  |   |\")\n",
    "    print(board[4] + \" | \" + board[5] + \" | \" + board[6])\n",
    "    print(\"  |   |\")\n",
    "    print(\"---------\")\n",
    "    print(\"  |   |\")\n",
    "    print(board[1] + \" | \" + board[2] + \" | \" + board[3])\n",
    "    "
   ]
  },
  {
   "cell_type": "code",
   "execution_count": 2,
   "metadata": {},
   "outputs": [
    {
     "name": "stdout",
     "output_type": "stream",
     "text": [
      "  |   |\n",
      "X | O | X\n",
      "  |   |\n",
      "---------\n",
      "  |   |\n",
      "O | X | O\n",
      "  |   |\n",
      "---------\n",
      "  |   |\n",
      "X | O | X\n"
     ]
    }
   ],
   "source": [
    "test_board = ['#','X','O','X','O','X','O','X','O','X']\n",
    "display_board(test_board)"
   ]
  },
  {
   "cell_type": "code",
   "execution_count": 3,
   "metadata": {},
   "outputs": [],
   "source": [
    "def player_input():\n",
    "    marker = \" \"\n",
    "    acceptable_values = ['X', 'O']\n",
    "    while marker not in acceptable_values:\n",
    "        marker = input(\"Player 1 choose X or O: \")\n",
    "    \n",
    "    if marker == 'X':\n",
    "        return ('X', 'O')\n",
    "    else:\n",
    "        return ('O', 'X')"
   ]
  },
  {
   "cell_type": "code",
   "execution_count": 4,
   "metadata": {},
   "outputs": [
    {
     "name": "stdout",
     "output_type": "stream",
     "text": [
      "Player 1 choose X or O: X\n"
     ]
    }
   ],
   "source": [
    "player1_marker, player2_marker = player_input()"
   ]
  },
  {
   "cell_type": "code",
   "execution_count": 5,
   "metadata": {},
   "outputs": [
    {
     "data": {
      "text/plain": [
       "'X'"
      ]
     },
     "execution_count": 5,
     "metadata": {},
     "output_type": "execute_result"
    }
   ],
   "source": [
    "player1_marker"
   ]
  },
  {
   "cell_type": "code",
   "execution_count": 6,
   "metadata": {},
   "outputs": [
    {
     "data": {
      "text/plain": [
       "'O'"
      ]
     },
     "execution_count": 6,
     "metadata": {},
     "output_type": "execute_result"
    }
   ],
   "source": [
    "player2_marker"
   ]
  },
  {
   "cell_type": "code",
   "execution_count": 7,
   "metadata": {},
   "outputs": [],
   "source": [
    "def place_marker(board, marker, position):\n",
    "    board[position] = marker\n",
    "    \n",
    "    return board"
   ]
  },
  {
   "cell_type": "code",
   "execution_count": 8,
   "metadata": {},
   "outputs": [
    {
     "name": "stdout",
     "output_type": "stream",
     "text": [
      "  |   |\n",
      "X | $ | X\n",
      "  |   |\n",
      "---------\n",
      "  |   |\n",
      "O | X | O\n",
      "  |   |\n",
      "---------\n",
      "  |   |\n",
      "X | O | X\n"
     ]
    }
   ],
   "source": [
    "place_marker(test_board,'$',8)\n",
    "display_board(test_board)"
   ]
  },
  {
   "cell_type": "code",
   "execution_count": 9,
   "metadata": {},
   "outputs": [],
   "source": [
    "def win_check(board, mark):\n",
    "    if board[1] == mark and board[2] == mark and board[3] == mark:\n",
    "        return True\n",
    "    elif board[4] == mark and board[5] == mark and board[6] == mark:\n",
    "        return True\n",
    "    elif board[7] == mark and board[8] == mark and board[9] == mark:\n",
    "        return True\n",
    "    elif board[1] == mark and board[4] == mark and board[7] == mark:\n",
    "        return True\n",
    "    elif board[2] == mark and board[5] == mark and board[8] == mark:\n",
    "        return True\n",
    "    elif board[3] == mark and board[6] == mark and board[9] == mark:\n",
    "        return True\n",
    "    elif board[1] == mark and board[5] == mark and board[9] == mark:\n",
    "        return True\n",
    "    elif board[7] == mark and board[5] == mark and board[3] == mark:\n",
    "        return True\n",
    "    #Could also do: board[4] == board[5] == board[6] == mark"
   ]
  },
  {
   "cell_type": "code",
   "execution_count": 10,
   "metadata": {},
   "outputs": [
    {
     "name": "stdout",
     "output_type": "stream",
     "text": [
      "  |   |\n",
      "X | $ | X\n",
      "  |   |\n",
      "---------\n",
      "  |   |\n",
      "O | X | O\n",
      "  |   |\n",
      "---------\n",
      "  |   |\n",
      "X | O | X\n"
     ]
    },
    {
     "data": {
      "text/plain": [
       "True"
      ]
     },
     "execution_count": 10,
     "metadata": {},
     "output_type": "execute_result"
    }
   ],
   "source": [
    "display_board(test_board)\n",
    "win_check(test_board,'X')"
   ]
  },
  {
   "cell_type": "code",
   "execution_count": 11,
   "metadata": {},
   "outputs": [],
   "source": [
    "import random\n",
    "\n",
    "def choose_first():\n",
    "    flip = random.randint(0,1)\n",
    "    if flip == 0:\n",
    "        return \"Player 1\"\n",
    "    else:\n",
    "        return \"Player 2\""
   ]
  },
  {
   "cell_type": "code",
   "execution_count": 12,
   "metadata": {},
   "outputs": [],
   "source": [
    "def space_check(board, position):\n",
    "    return board[position] == \" \"\n",
    "    #if board[position] == 'X' or board[position] == 'O':\n",
    "      #  print(\"Space not available\")\n",
    "       # return True\n",
    "    #else:\n",
    "      #  return False"
   ]
  },
  {
   "cell_type": "code",
   "execution_count": 13,
   "metadata": {},
   "outputs": [],
   "source": [
    "def full_board_check(board):\n",
    "    for i in range(1,10):\n",
    "        if space_check(board,i):\n",
    "            return False\n",
    "    return True\n",
    "    #count = 0\n",
    "    #for x in range(1, len(board)):\n",
    "       # if board[x] == 'X' or board[x] == 'O':\n",
    "        #    count+=1\n",
    "         #   if count == 9:\n",
    "          #      return True\n",
    "           # else:\n",
    "            #    return False"
   ]
  },
  {
   "cell_type": "code",
   "execution_count": 14,
   "metadata": {},
   "outputs": [],
   "source": [
    "def player_choice(board):\n",
    "    position = 0\n",
    "    acceptable = ['1','2','3','4','5','6','7','8','9']\n",
    "    while position not in acceptable or not space_check(board, position):\n",
    "        position = input(\"Chooese a position(1-9): \")\n",
    "        \n",
    "        if position not in acceptable:\n",
    "            print(\"Invalid Input\")\n",
    "            \n",
    "    #free_space = space_check(board,position)\n",
    "    #if free_space:\n",
    "        return int(position)"
   ]
  },
  {
   "cell_type": "code",
   "execution_count": 15,
   "metadata": {},
   "outputs": [],
   "source": [
    "def replay():\n",
    "    choice = input(\"Play again? Yes or No\")\n",
    "    return choice == 'Yes'"
   ]
  },
  {
   "cell_type": "code",
   "execution_count": 23,
   "metadata": {},
   "outputs": [
    {
     "name": "stdout",
     "output_type": "stream",
     "text": [
      "  |   |\n",
      "X | O | O\n",
      "  |   |\n",
      "---------\n",
      "  |   |\n",
      "O | X | X\n",
      "  |   |\n",
      "---------\n",
      "  |   |\n",
      "O | X | O\n",
      "Draw. No one wins. Sad Face\n",
      "Play again? Yes or NoNo\n"
     ]
    }
   ],
   "source": [
    "print('Welcome to Tic Tac Toe!')\n",
    "game_on = True\n",
    "game_over = False\n",
    "game_over_draw = False\n",
    "while True:\n",
    "    \n",
    "    # Set the game up here\n",
    "    test_board = ['#',' ',' ',' ',' ',' ',' ',' ',' ',' ']\n",
    "    player1_marker, player2_marker = player_input()\n",
    "    turn = choose_first()\n",
    "    print(turn + \" will go first\")\n",
    "    play_game = input(\"Ready to play? y or n\")\n",
    "    if play_game == 'y':\n",
    "        game_on == True\n",
    "    else:\n",
    "        game_on == False\n",
    "    \n",
    "    #pass\n",
    "\n",
    "    while game_on:\n",
    "        #Player 1 Turn\n",
    "        if turn == 'Player 1':\n",
    "            display_board(test_board)\n",
    "            position = player_choice(test_board)\n",
    "            place_marker(test_board,player1_marker, position)\n",
    "            game_over_win = win_check(test_board, player1_marker)\n",
    "            game_over_draw = full_board_check(test_board)\n",
    "            \n",
    "            if game_over_win:\n",
    "                display_board(test_board)\n",
    "                print(\"Player 1 wins!\")\n",
    "                game_on = False\n",
    "            \n",
    "            elif game_over == False and game_over_draw:\n",
    "                display_board(test_board)\n",
    "                print(\"Draw. No one wins. Sad Face\")\n",
    "                game_on = False\n",
    "                \n",
    "            else:\n",
    "                turn = 'Player 2'\n",
    "          \n",
    "        # Player2's turn.\n",
    "        else: \n",
    "            if turn == 'Player 2':\n",
    "                display_board(test_board)\n",
    "                position = player_choice(test_board)\n",
    "                place_marker(test_board,player2_marker, position)\n",
    "                game_over_win = win_check(test_board, player2_marker)\n",
    "                game_over_draw = full_board_check(test_board)\n",
    "            \n",
    "                if game_over_win:\n",
    "                    display_board(test_board)\n",
    "                    print(\"Player 2 wins!\")\n",
    "                    game_on = False\n",
    "            \n",
    "                elif game_over == False and game_over_draw:\n",
    "                    display_board(test_board)\n",
    "                    print(\"Draw. No one wins. Sad Face\")\n",
    "                    game_on = False\n",
    "                    \n",
    "                else:\n",
    "                    turn = 'Player 1'\n",
    "            #pass\n",
    "            \n",
    "    #replay()\n",
    "\n",
    "    if not replay():\n",
    "        break"
   ]
  },
  {
   "cell_type": "code",
   "execution_count": null,
   "metadata": {},
   "outputs": [],
   "source": []
  },
  {
   "cell_type": "code",
   "execution_count": null,
   "metadata": {},
   "outputs": [],
   "source": []
  }
 ],
 "metadata": {
  "kernelspec": {
   "display_name": "Python 3",
   "language": "python",
   "name": "python3"
  },
  "language_info": {
   "codemirror_mode": {
    "name": "ipython",
    "version": 3
   },
   "file_extension": ".py",
   "mimetype": "text/x-python",
   "name": "python",
   "nbconvert_exporter": "python",
   "pygments_lexer": "ipython3",
   "version": "3.6.5"
  }
 },
 "nbformat": 4,
 "nbformat_minor": 2
}
